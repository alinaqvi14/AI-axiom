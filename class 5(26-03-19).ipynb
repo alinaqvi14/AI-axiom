{
 "cells": [
  {
   "cell_type": "markdown",
   "metadata": {},
   "source": [
    "using break"
   ]
  },
  {
   "cell_type": "code",
   "execution_count": 27,
   "metadata": {},
   "outputs": [
    {
     "name": "stdout",
     "output_type": "stream",
     "text": [
      "1\n",
      "2\n",
      "3\n",
      "this is break\n"
     ]
    }
   ],
   "source": [
    "break_list=[1,2,3,4,5,6]\n",
    "for i in range(6):\n",
    "   \n",
    "    if break_list[i]==break_list[3]:\n",
    "        print(\"this is break\")\n",
    "        break\n",
    "    print(break_list[i])"
   ]
  },
  {
   "cell_type": "code",
   "execution_count": 30,
   "metadata": {},
   "outputs": [
    {
     "data": {
      "text/plain": [
       "True"
      ]
     },
     "execution_count": 30,
     "metadata": {},
     "output_type": "execute_result"
    }
   ],
   "source": [
    "2 in break_list\n"
   ]
  },
  {
   "cell_type": "markdown",
   "metadata": {},
   "source": [
    "Continue statement"
   ]
  },
  {
   "cell_type": "code",
   "execution_count": 29,
   "metadata": {},
   "outputs": [
    {
     "name": "stdout",
     "output_type": "stream",
     "text": [
      "1\n",
      "2\n",
      "3\n",
      "4\n",
      "this is break\n",
      "6\n"
     ]
    }
   ],
   "source": [
    "break_list=[1,2,3,4,5,6]\n",
    "for i in range(6):\n",
    "    if break_list[i]==break_list[4]:\n",
    "        print(\"this is break\")\n",
    "        continue\n",
    "    print(break_list[i])"
   ]
  },
  {
   "cell_type": "markdown",
   "metadata": {},
   "source": [
    "## Nested loops "
   ]
  },
  {
   "cell_type": "code",
   "execution_count": 32,
   "metadata": {},
   "outputs": [],
   "source": [
    "first_name=[\"Ali\",\"Mahad\",\"Qamar\",\"Yasir\",\"Salman\"]\n",
    "last_name=[\"Mehdi\",\"khan\",\"Abbas\",\"wahid\",\"mehmood\"]"
   ]
  },
  {
   "cell_type": "code",
   "execution_count": 94,
   "metadata": {},
   "outputs": [
    {
     "name": "stdout",
     "output_type": "stream",
     "text": [
      "['Ali Mehdi', 'Ali khan', 'Ali Abbas', 'Ali wahid', 'Ali mehmood', 'Mahad Mehdi', 'Mahad khan', 'Mahad Abbas', 'Mahad wahid', 'Mahad mehmood', 'Qamar Mehdi', 'Qamar khan', 'Qamar Abbas', 'Qamar wahid', 'Qamar mehmood', 'Yasir Mehdi', 'Yasir khan', 'Yasir Abbas', 'Yasir wahid', 'Yasir mehmood', 'Salman Mehdi', 'Salman khan', 'Salman Abbas', 'Salman wahid', 'Salman mehmood']\n"
     ]
    }
   ],
   "source": [
    "full_name=[]\n",
    "for f in first_name:\n",
    "    for l in last_name:\n",
    "        full_name.append(f+\" \"+l)\n",
    "        #print(full_name)\n",
    "print(full_name)\n"
   ]
  },
  {
   "cell_type": "markdown",
   "metadata": {},
   "source": [
    "Table using Input(print without concatination)"
   ]
  },
  {
   "cell_type": "code",
   "execution_count": 110,
   "metadata": {},
   "outputs": [
    {
     "name": "stdout",
     "output_type": "stream",
     "text": [
      "which numbers table you want? 3\n",
      "enter your range 10\n",
      "3 * 1 = 3\n",
      "3 * 2 = 6\n",
      "3 * 3 = 9\n",
      "3 * 4 = 12\n",
      "3 * 5 = 15\n",
      "3 * 6 = 18\n",
      "3 * 7 = 21\n",
      "3 * 8 = 24\n",
      "3 * 9 = 27\n",
      "3 * 10 = 30\n"
     ]
    }
   ],
   "source": [
    "x=int(input(\"which numbers table you want? \"))\n",
    "for i in range(1,int(input(\"enter your range \"))+1):\n",
    "    print(x,\"*\",i,\"=\", x*i)"
   ]
  },
  {
   "cell_type": "markdown",
   "metadata": {},
   "source": [
    "Tables from 1-10 using concatination in print"
   ]
  },
  {
   "cell_type": "code",
   "execution_count": 4,
   "metadata": {},
   "outputs": [
    {
     "name": "stdout",
     "output_type": "stream",
     "text": [
      "enter start of table2\n",
      "enter end of table4\n",
      "2 * 1 = 2\n",
      "2 * 2 = 4\n",
      "2 * 3 = 6\n",
      "2 * 4 = 8\n",
      "2 * 5 = 10\n",
      "2 * 6 = 12\n",
      "2 * 7 = 14\n",
      "2 * 8 = 16\n",
      "2 * 9 = 18\n",
      "2 * 10 = 20\n",
      "=======\n",
      "3 * 1 = 3\n",
      "3 * 2 = 6\n",
      "3 * 3 = 9\n",
      "3 * 4 = 12\n",
      "3 * 5 = 15\n",
      "3 * 6 = 18\n",
      "3 * 7 = 21\n",
      "3 * 8 = 24\n",
      "3 * 9 = 27\n",
      "3 * 10 = 30\n",
      "=======\n",
      "4 * 1 = 4\n",
      "4 * 2 = 8\n",
      "4 * 3 = 12\n",
      "4 * 4 = 16\n",
      "4 * 5 = 20\n",
      "4 * 6 = 24\n",
      "4 * 7 = 28\n",
      "4 * 8 = 32\n",
      "4 * 9 = 36\n",
      "4 * 10 = 40\n",
      "=======\n"
     ]
    }
   ],
   "source": [
    "#print(\"List of tables from 1-10\",end=\"\\n\")\n",
    "start=int(input(\"enter start of table\"))\n",
    "end=int(input(\"enter end of table\"))\n",
    "for x in range (start,end+1):\n",
    "    for y in range (1,11):\n",
    "        print(str(x)+\" * \"+str(y)+ \" = \"+ str(x*y))\n",
    "    print(\"=======\")"
   ]
  },
  {
   "cell_type": "markdown",
   "metadata": {},
   "source": [
    "# Dictionaries"
   ]
  },
  {
   "cell_type": "code",
   "execution_count": 5,
   "metadata": {},
   "outputs": [
    {
     "data": {
      "text/plain": [
       "dict"
      ]
     },
     "execution_count": 5,
     "metadata": {},
     "output_type": "execute_result"
    }
   ],
   "source": [
    "#Format of a dictionary\n",
    "#dct={key:value,key:value}\n",
    "dct={}\n",
    "type(dct)"
   ]
  },
  {
   "cell_type": "code",
   "execution_count": 58,
   "metadata": {},
   "outputs": [
    {
     "data": {
      "text/plain": [
       "{'a1': [{1: 100, 2: 200, 3: 300, 4: 400},\n",
       "  {'a': 'Apple', 'b': 'Bara Apple'},\n",
       "  {1: 'Apple', 2: 'ball', 3: 'CAt'},\n",
       "  {'name': ['asad', 'yasir', 'saad', 'mahad'], 1: 999, 'a': 'ali'}],\n",
       " 'a2': [{11: '11', 12: '122'}]}"
      ]
     },
     "execution_count": 58,
     "metadata": {},
     "output_type": "execute_result"
    }
   ],
   "source": [
    "dct={1:100,2:200,3:300,4:400} #both keys and value are integer\n",
    "dct0={11:'11',12:\"122\"}\n",
    "dct1={\"a\":\"Apple\",\"b\":\"Bara Apple\"} # both are string\n",
    "dct2={1:\"Apple\",2:\"ball\",3:\"CAt\"} #key can be int and value can be string and vise varse\n",
    "dct3={\"name\":['asad','yasir','saad','mahad'],1:999,\"a\":\"ali\"} #key string and value list\n",
    "dct4={\"a1\":[dct,dct1,dct2,dct3]} #list of dictionaries\n",
    "dct4[\"a2\"]=[dct0]\n",
    "\n",
    "\n",
    "#how to access distionary\n",
    "dct[1]\n",
    "dct1[\"a\"]\n",
    "dct4\n"
   ]
  },
  {
   "cell_type": "code",
   "execution_count": 16,
   "metadata": {},
   "outputs": [
    {
     "name": "stdout",
     "output_type": "stream",
     "text": [
      "{'name': ['asad', 'yasir', 'saad', 'mahad'], 1: 999, 'a': 'ali', 'aim': 'bht kuch '}\n"
     ]
    }
   ],
   "source": [
    "dct4\n",
    "dct3 [\"aim\"]=\"bht kuch \" #method to add key and item in dictionary\n",
    "print(dct3)"
   ]
  },
  {
   "cell_type": "code",
   "execution_count": 13,
   "metadata": {},
   "outputs": [
    {
     "data": {
      "text/plain": [
       "{'a1': 'kuch nahi'}"
      ]
     },
     "execution_count": 13,
     "metadata": {},
     "output_type": "execute_result"
    }
   ],
   "source": [
    "dct4[\"a1\"]=\"kuch nahi\"   #key was over ride\n",
    "dct4"
   ]
  },
  {
   "cell_type": "code",
   "execution_count": 22,
   "metadata": {},
   "outputs": [
    {
     "data": {
      "text/plain": [
       "{1: 'naqvi', 2: 'mehdi'}"
      ]
     },
     "execution_count": 22,
     "metadata": {},
     "output_type": "execute_result"
    }
   ],
   "source": [
    "dct5={1:\"ali\",2:\"mehdi\",1:\"naqvi\"} #defining a key more then once\n",
    "dct5"
   ]
  },
  {
   "cell_type": "code",
   "execution_count": 23,
   "metadata": {},
   "outputs": [
    {
     "data": {
      "text/plain": [
       "{2: 'mehdi'}"
      ]
     },
     "execution_count": 23,
     "metadata": {},
     "output_type": "execute_result"
    }
   ],
   "source": [
    "del dct5[1] #deleting a value from a dictionary\n",
    "dct5"
   ]
  },
  {
   "cell_type": "code",
   "execution_count": 24,
   "metadata": {},
   "outputs": [
    {
     "data": {
      "text/plain": [
       "{2: 'mehdi', 1: 'ali'}"
      ]
     },
     "execution_count": 24,
     "metadata": {},
     "output_type": "execute_result"
    }
   ],
   "source": [
    "dct5[1]=\"ali\"\n",
    "dct5"
   ]
  },
  {
   "cell_type": "code",
   "execution_count": 45,
   "metadata": {},
   "outputs": [
    {
     "name": "stdout",
     "output_type": "stream",
     "text": [
      "{'name': ['asad', 'Wahid', 'yasir', 'saad', 'mahad'], 1: 999, 'a': 'ali'}\n"
     ]
    }
   ],
   "source": [
    "dct3={\"name\":['asad','yasir','saad','mahad'],1:999,\"a\":\"ali\"} #accessing a list element from dictionary using key\n",
    "dct3[\"name\"][1] #pehly key phr index\n",
    "#dct3[\"name\"][1][2]\n",
    "dct3\n",
    "\n",
    "#name=dct3[\"name\"].pop(1) \n",
    "#print(name)\n",
    "\n",
    "dct3[\"name\"].insert(1,\"Wahid\")\n",
    "print(dct3)"
   ]
  },
  {
   "cell_type": "code",
   "execution_count": 29,
   "metadata": {
    "scrolled": true
   },
   "outputs": [
    {
     "data": {
      "text/plain": [
       "'3'"
      ]
     },
     "execution_count": 29,
     "metadata": {},
     "output_type": "execute_result"
    }
   ],
   "source": [
    "dct7={1:{1:\"a\",2:\"b\",3:\"c\",4:\"d4z\"},2:\"12345\"}\n",
    "dct7[1][4][1] #accessing 4 from \"d4z\"\n",
    "dct7[2][2] #accessing 3 from \"12345\"\n"
   ]
  },
  {
   "cell_type": "code",
   "execution_count": 50,
   "metadata": {},
   "outputs": [
    {
     "name": "stdout",
     "output_type": "stream",
     "text": [
      "1 a\n",
      "2 b\n",
      "3 c\n",
      "4 d\n",
      "5 e\n"
     ]
    }
   ],
   "source": [
    "dct8={1:\"a\",2:\"b\",3:\"c\",4:\"d\",5:\"e\"}\n",
    "for k, v in dct8.items():\n",
    "    print(k,v)"
   ]
  },
  {
   "cell_type": "code",
   "execution_count": 56,
   "metadata": {},
   "outputs": [
    {
     "name": "stdout",
     "output_type": "stream",
     "text": [
      "a\n",
      "b\n",
      "c\n",
      "d\n",
      "e\n"
     ]
    }
   ],
   "source": [
    "dct8={1:\"a\",2:\"b\",3:\"c\",4:\"d\",5:\"e\"}\n",
    "for k in dct8.keys(): #for only the keys\n",
    "   # print(k)\n",
    "    print(dct8[k]) #print values using iterative keys"
   ]
  },
  {
   "cell_type": "code",
   "execution_count": 53,
   "metadata": {},
   "outputs": [
    {
     "name": "stdout",
     "output_type": "stream",
     "text": [
      "a\n",
      "b\n",
      "c\n",
      "d\n",
      "e\n"
     ]
    }
   ],
   "source": [
    "dct8={1:\"a\",2:\"b\",3:\"c\",4:\"d\",5:\"e\"}\n",
    "for k in dct8.values(): #for only the values\n",
    "    print(k)"
   ]
  },
  {
   "cell_type": "code",
   "execution_count": null,
   "metadata": {},
   "outputs": [],
   "source": []
  }
 ],
 "metadata": {
  "kernelspec": {
   "display_name": "Python 3",
   "language": "python",
   "name": "python3"
  },
  "language_info": {
   "codemirror_mode": {
    "name": "ipython",
    "version": 3
   },
   "file_extension": ".py",
   "mimetype": "text/x-python",
   "name": "python",
   "nbconvert_exporter": "python",
   "pygments_lexer": "ipython3",
   "version": "3.7.1"
  }
 },
 "nbformat": 4,
 "nbformat_minor": 2
}
