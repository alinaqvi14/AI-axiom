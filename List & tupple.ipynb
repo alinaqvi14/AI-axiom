{
 "cells": [
  {
   "cell_type": "markdown",
   "metadata": {},
   "source": [
    "This is our First class of Python ;\n"
   ]
  },
  {
   "cell_type": "code",
   "execution_count": null,
   "metadata": {},
   "outputs": [],
   "source": [
    "print(\"hello mady\")\n"
   ]
  },
  {
   "cell_type": "markdown",
   "metadata": {},
   "source": [
    "# PYTHON "
   ]
  },
  {
   "cell_type": "code",
   "execution_count": 21,
   "metadata": {},
   "outputs": [
    {
     "name": "stdout",
     "output_type": "stream",
     "text": [
      "welcome to ['ali', 'mehdi', 'naqvi', 'is', 'Syed', 'using', 'list', 'the ', 'end', 455, 23.54]\n",
      "['ali', 'mehdi', 'naqvi', 'Syed', 'using', 'list', 'the ', 'end', 455, 23.54]\n",
      "['ali', 'mehdi', 'naqvi', 'Syed', 'list', 'the ', 'end', 455, 23.54]\n",
      "['is']\n",
      "naqvi\n"
     ]
    }
   ],
   "source": [
    "cities=[\"ali\",'mehdi','naqvi','is','using','list']\n",
    "cities.append(\"the \")\n",
    "cities.append(\"end\")\n",
    "cities.insert(4,\"Syed\")\n",
    "cities.append(455)\n",
    "cities.append(23.54)\n",
    "print(\"welcome to\" ,cities)\n",
    "anlist=[]\n",
    "anlist.append(cities.pop(3))\n",
    "print(cities)\n",
    "cities.remove('using')\n",
    "#del cities[6]\n",
    "print(cities)\n",
    "print(anlist)\n",
    "print(cities[2])"
   ]
  },
  {
   "cell_type": "code",
   "execution_count": 32,
   "metadata": {},
   "outputs": [
    {
     "name": "stdout",
     "output_type": "stream",
     "text": [
      "['ali', 'mehdi', 'naqvi', 'Syed', 'list', 'the ', 'end', 455, 23.54]\n",
      "['Syed', 'list', 'the ', 'end', 455, 23.54]\n"
     ]
    }
   ],
   "source": [
    "smaller=cities[3:6]\n",
    "print(cities)\n",
    "print(smaller)\n"
   ]
  },
  {
   "cell_type": "markdown",
   "metadata": {},
   "source": [
    "## indexing always go from left to right in slicing\n"
   ]
  },
  {
   "cell_type": "code",
   "execution_count": 45,
   "metadata": {},
   "outputs": [
    {
     "name": "stdout",
     "output_type": "stream",
     "text": [
      "['list', 'the ', 'end', 455]\n",
      "['Syed', 'list', 'the ', 'end']\n",
      "[]\n"
     ]
    }
   ],
   "source": [
    "print(cities [-5:8])\n",
    "print(cities [3:-2])\n",
    "print(cities[-3:-8])"
   ]
  },
  {
   "cell_type": "code",
   "execution_count": 49,
   "metadata": {},
   "outputs": [
    {
     "data": {
      "text/plain": [
       "['naqvi', 'Syed', 'list', 'the ', 'end', 455]"
      ]
     },
     "execution_count": 49,
     "metadata": {},
     "output_type": "execute_result"
    }
   ],
   "source": [
    "cities [2:-1]\n"
   ]
  },
  {
   "cell_type": "code",
   "execution_count": 129,
   "metadata": {},
   "outputs": [
    {
     "data": {
      "text/plain": [
       "[1, 2, 3, 4, 5, 6, 7, 8, 9, 'Maddy']"
      ]
     },
     "execution_count": 129,
     "metadata": {},
     "output_type": "execute_result"
    }
   ],
   "source": [
    "list=[1,2,3,4,5,6,7,8,9]\n",
    "list.append(\"Maddy\")\n",
    "list\n",
    "\n"
   ]
  },
  {
   "cell_type": "code",
   "execution_count": 130,
   "metadata": {},
   "outputs": [
    {
     "data": {
      "text/plain": [
       "[1, 2, 3, 4, 5]"
      ]
     },
     "execution_count": 130,
     "metadata": {},
     "output_type": "execute_result"
    }
   ],
   "source": [
    "list [0:5]"
   ]
  },
  {
   "cell_type": "code",
   "execution_count": 131,
   "metadata": {},
   "outputs": [
    {
     "data": {
      "text/plain": [
       "[6, 7, 8, 9, 'Maddy']"
      ]
     },
     "execution_count": 131,
     "metadata": {},
     "output_type": "execute_result"
    }
   ],
   "source": [
    "list [5:12]"
   ]
  },
  {
   "cell_type": "code",
   "execution_count": 132,
   "metadata": {},
   "outputs": [
    {
     "data": {
      "text/plain": [
       "[1, 2, 3, 4, 5, 6, 7, 8, 9, 'Maddy']"
      ]
     },
     "execution_count": 132,
     "metadata": {},
     "output_type": "execute_result"
    }
   ],
   "source": [
    "list"
   ]
  },
  {
   "cell_type": "code",
   "execution_count": 133,
   "metadata": {},
   "outputs": [],
   "source": [
    "del list[0]"
   ]
  },
  {
   "cell_type": "markdown",
   "metadata": {},
   "source": [
    "# copy built-in function is pass by value not refrence\n"
   ]
  },
  {
   "cell_type": "code",
   "execution_count": 134,
   "metadata": {},
   "outputs": [
    {
     "name": "stdout",
     "output_type": "stream",
     "text": [
      "before append\n",
      "c= [2, 1]\n",
      "a= [2, 1]\n",
      "d= [2, 1]\n",
      "after append\n",
      "c= [2, 1, 12]\n",
      "a= [2, 1]\n",
      "d = [2, 1, 12]\n"
     ]
    }
   ],
   "source": [
    "a=[1,2]\n",
    "b=['a','b']\n",
    "c=a\n",
    "d=b*2\n",
    "c\n",
    "d\n",
    "#a.clear()\n",
    "a\n",
    "a.reverse()\n",
    "a\n",
    "a=c.copy()\n",
    "d=c\n",
    "print(\"before append\")\n",
    "print(\"c=\",c)\n",
    "print(\"a=\",a)\n",
    "print(\"d=\",d)\n",
    "c.append(12)\n",
    "print(\"after append\")\n",
    "print(\"c=\",c)\n",
    "print(\"a=\" ,a)\n",
    "print(\"d =\",d)"
   ]
  },
  {
   "cell_type": "code",
   "execution_count": 121,
   "metadata": {},
   "outputs": [
    {
     "data": {
      "text/plain": [
       "40"
      ]
     },
     "execution_count": 121,
     "metadata": {},
     "output_type": "execute_result"
    }
   ],
   "source": [
    "value1=10\n",
    "value2=value1\n",
    "value1=20\n",
    "value2=value1+value1\n",
    "value2"
   ]
  },
  {
   "cell_type": "code",
   "execution_count": 122,
   "metadata": {},
   "outputs": [
    {
     "data": {
      "text/plain": [
       "140711271249328"
      ]
     },
     "execution_count": 122,
     "metadata": {},
     "output_type": "execute_result"
    }
   ],
   "source": [
    "id (value1)"
   ]
  },
  {
   "cell_type": "code",
   "execution_count": 123,
   "metadata": {},
   "outputs": [
    {
     "data": {
      "text/plain": [
       "140711271249968"
      ]
     },
     "execution_count": 123,
     "metadata": {},
     "output_type": "execute_result"
    }
   ],
   "source": [
    "id (value2)"
   ]
  },
  {
   "cell_type": "markdown",
   "metadata": {},
   "source": [
    "# Unpaking tupple or list"
   ]
  },
  {
   "cell_type": "code",
   "execution_count": 156,
   "metadata": {},
   "outputs": [
    {
     "name": "stdout",
     "output_type": "stream",
     "text": [
      "1\n",
      "2\n",
      "ista\n"
     ]
    }
   ],
   "source": [
    "a=1,2,3\n",
    "b=['a','b','c']\n",
    "x,y,z=b\n",
    "g,f,h=a\n",
    "#b.insert(1,a[0:2])\n",
    "b=a[2:4]\n",
    "#print(b)\n",
    "#del a[2]\n",
    "print(g)\n",
    "print(f)\n",
    "name=\"Pakistan Zindabad\"\n",
    "print(name[3:7])"
   ]
  },
  {
   "cell_type": "code",
   "execution_count": 144,
   "metadata": {},
   "outputs": [
    {
     "name": "stdout",
     "output_type": "stream",
     "text": [
      "['mahad', 'salman', ['yasir', 'raghib'], 'ali', 'qamar']\n"
     ]
    }
   ],
   "source": [
    "a=['mahad','salman','ali','qamar']\n",
    "b=['yasir','raghib']\n",
    "a.insert(2,b)\n",
    "print(a)"
   ]
  },
  {
   "cell_type": "markdown",
   "metadata": {},
   "source": [
    "# converting string into list"
   ]
  },
  {
   "cell_type": "code",
   "execution_count": 160,
   "metadata": {},
   "outputs": [
    {
     "name": "stdout",
     "output_type": "stream",
     "text": [
      "['Pakis', 'tan Z', 'inda', 'bad']\n"
     ]
    }
   ],
   "source": [
    "name=\"Pakis,tan Z,inda,bad\"\n",
    "splt=name.split(\",\")\n",
    "print(splt)"
   ]
  },
  {
   "cell_type": "code",
   "execution_count": null,
   "metadata": {},
   "outputs": [],
   "source": []
  }
 ],
 "metadata": {
  "kernelspec": {
   "display_name": "Python 3",
   "language": "python",
   "name": "python3"
  },
  "language_info": {
   "codemirror_mode": {
    "name": "ipython",
    "version": 3
   },
   "file_extension": ".py",
   "mimetype": "text/x-python",
   "name": "python",
   "nbconvert_exporter": "python",
   "pygments_lexer": "ipython3",
   "version": "3.7.1"
  }
 },
 "nbformat": 4,
 "nbformat_minor": 2
}
